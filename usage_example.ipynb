{
 "cells": [
  {
   "cell_type": "markdown",
   "metadata": {},
   "source": [
    "# Example Usage of `mkt_dt_utils`\n",
    "\n",
    "## Installation is very easy"
   ]
  },
  {
   "cell_type": "code",
   "execution_count": 6,
   "metadata": {},
   "outputs": [],
   "source": [
    "import mkt_dt_utils as dt_utils\n",
    "\n",
    "# and some other utils for example use\n",
    "from datetime import datetime\n",
    "import pytz"
   ]
  },
  {
   "cell_type": "markdown",
   "metadata": {},
   "source": [
    "## Convert Time from One Time Zone to another using `TimeConvert`"
   ]
  },
  {
   "cell_type": "code",
   "execution_count": 7,
   "metadata": {},
   "outputs": [
    {
     "name": "stdout",
     "output_type": "stream",
     "text": [
      "Our EST Time is 08 Feb 19 03:51 EST\n"
     ]
    }
   ],
   "source": [
    "utc_datetime = datetime.now(pytz.utc)\n",
    "est_datetime = dt_utils.TimeConvert(utc_datetime, 'EST')\n",
    "print(f'Our EST Time is {est_datetime.strftime(\"%d %b %y %H:%M %Z\")}')"
   ]
  },
  {
   "cell_type": "markdown",
   "metadata": {},
   "source": [
    "## Check if Market is Open using `IsMarketOpen`"
   ]
  },
  {
   "cell_type": "code",
   "execution_count": 9,
   "metadata": {},
   "outputs": [
    {
     "name": "stdout",
     "output_type": "stream",
     "text": [
      "Current time UTC: 2019-02-07 14:31:00+00:00\n",
      "                         market_open              market_close\n",
      "2019-02-06 2019-02-06 14:30:00+00:00 2019-02-06 21:00:00+00:00\n",
      "2019-02-07 2019-02-07 14:30:00+00:00 2019-02-07 21:00:00+00:00\n",
      "2019-02-08 2019-02-08 14:30:00+00:00 2019-02-08 21:00:00+00:00\n"
     ]
    },
    {
     "data": {
      "text/plain": [
       "True"
      ]
     },
     "execution_count": 9,
     "metadata": {},
     "output_type": "execute_result"
    }
   ],
   "source": [
    "dt_utils.IsMarketOpen( datetime(2019, 2, 7, 9,31, tzinfo = pytz.timezone('EST')), 'NYSE', debugmode = True)"
   ]
  },
  {
   "cell_type": "code",
   "execution_count": 10,
   "metadata": {},
   "outputs": [
    {
     "data": {
      "text/plain": [
       "False"
      ]
     },
     "execution_count": 10,
     "metadata": {},
     "output_type": "execute_result"
    }
   ],
   "source": [
    "dt_utils.IsMarketOpen( datetime(2019, 2, 18, 13,4, tzinfo = pytz.timezone('EST')), 'NYSE')"
   ]
  },
  {
   "cell_type": "markdown",
   "metadata": {},
   "source": [
    "## Adjust Trading Dates using `MarketDateAdjust`"
   ]
  },
  {
   "cell_type": "code",
   "execution_count": 12,
   "metadata": {},
   "outputs": [
    {
     "data": {
      "text/plain": [
       "Timestamp('2019-02-19 00:00:00')"
      ]
     },
     "execution_count": 12,
     "metadata": {},
     "output_type": "execute_result"
    }
   ],
   "source": [
    "newdate = dt_utils.MarketDateAdj( datetime(2019, 2, 7), IntBusinessDays= 7, ExchangeName='NYSE')\n",
    "newdate"
   ]
  },
  {
   "cell_type": "markdown",
   "metadata": {},
   "source": [
    "## Get Time to Next Open or Market Close with `GetTimeToMktOpen`"
   ]
  },
  {
   "cell_type": "code",
   "execution_count": 14,
   "metadata": {},
   "outputs": [
    {
     "name": "stdout",
     "output_type": "stream",
     "text": [
      "--- Market is Open ---\n",
      "Close Time is 2019-02-07 21:00:00+00:00, Time Now is 2019-02-07 14:30:00+00:00\n",
      "{'status': 'open', 'd-h-m-s': (0, 6, 30, 0)}\n",
      "--- Market is Open ---\n",
      "Close Time is 2019-02-07 21:00:00+00:00, Time Now is 2019-02-07 20:55:00+00:00\n",
      "{'status': 'open', 'd-h-m-s': (0, 0, 5, 0)}\n"
     ]
    }
   ],
   "source": [
    "# right after Market Open\n",
    "dt_now = datetime(2019, 2, 7, 9, 30, tzinfo = pytz.timezone('EST'))#datetime.now(pytz.utc)\n",
    "print(dt_utils.GetTimeToMktOpen( dt_now, 'NYSE', debugmode= True))\n",
    "\n",
    "# right before Market Close\n",
    "dt_now = datetime(2019, 2, 7, 15, 59, tzinfo = pytz.timezone('US/Eastern'))#datetime.now(pytz.utc)\n",
    "print(dt_utils.GetTimeToMktOpen( dt_now, 'NYSE', debugmode= True))"
   ]
  },
  {
   "cell_type": "code",
   "execution_count": 17,
   "metadata": {},
   "outputs": [
    {
     "name": "stdout",
     "output_type": "stream",
     "text": [
      "Market is: {'status': 'closed', 'd-h-m-s': (0, 0, 1, 0)}\n"
     ]
    }
   ],
   "source": [
    "# just before open\n",
    "dt_now = datetime(2019, 2, 7, 9, 29, tzinfo = pytz.timezone('EST'))#datetime.now(pytz.utc)\n",
    "print(f'Market is: {dt_utils.GetTimeToMktOpen( dt_now, \"NYSE\")}')"
   ]
  },
  {
   "cell_type": "code",
   "execution_count": 18,
   "metadata": {},
   "outputs": [
    {
     "name": "stdout",
     "output_type": "stream",
     "text": [
      "Market is: {'status': 'closed', 'd-h-m-s': (0, 17, 29, 0)}\n"
     ]
    }
   ],
   "source": [
    "# just after close\n",
    "dt_now = datetime(2019, 2, 7, 16, 1, tzinfo = pytz.timezone('EST'))#datetime.now(pytz.utc)\n",
    "print(f'Market is: {dt_utils.GetTimeToMktOpen( dt_now, \"NYSE\")}')"
   ]
  },
  {
   "cell_type": "markdown",
   "metadata": {},
   "source": [
    "### Market Clock Live Demo"
   ]
  },
  {
   "cell_type": "code",
   "execution_count": 19,
   "metadata": {},
   "outputs": [
    {
     "name": "stdout",
     "output_type": "stream",
     "text": [
      "5:25:06 until NYSE open\n"
     ]
    }
   ],
   "source": [
    "exchange = 'NYSE'\n",
    "MktTimeDict = dt_utils.GetTimeToMktOpen( datetime.now(pytz.utc), exchange)\n",
    "d,h,m,s = MktTimeDict['d-h-m-s']\n",
    "\n",
    "if MktTimeDict['status'] == 'open':\n",
    "    nextAction = f'until {exchange} close'\n",
    "else:\n",
    "    nextAction = f'until {exchange} open'\n",
    "\n",
    "msg = f'{h}:{\"{:02d}\".format(m)}:{\"{:02d}\".format(s)}'\n",
    "if d > 0:\n",
    "    msg = f'{d} days {msg}'\n",
    "    \n",
    "print(f'{msg} {nextAction}')"
   ]
  }
 ],
 "metadata": {
  "kernelspec": {
   "display_name": "Python 3",
   "language": "python",
   "name": "python3"
  },
  "language_info": {
   "codemirror_mode": {
    "name": "ipython",
    "version": 3
   },
   "file_extension": ".py",
   "mimetype": "text/x-python",
   "name": "python",
   "nbconvert_exporter": "python",
   "pygments_lexer": "ipython3",
   "version": "3.6.3"
  }
 },
 "nbformat": 4,
 "nbformat_minor": 2
}
